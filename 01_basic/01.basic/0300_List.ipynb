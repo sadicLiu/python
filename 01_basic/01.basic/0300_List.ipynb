{
 "cells": [
  {
   "cell_type": "markdown",
   "metadata": {},
   "source": [
    "## 1.列表"
   ]
  },
  {
   "cell_type": "code",
   "execution_count": null,
   "metadata": {},
   "outputs": [
    {
     "name": "stdout",
     "output_type": "stream",
     "text": [
      "['bmw', 'benz', 'land rover']\n"
     ]
    }
   ],
   "source": [
    "cars = ['bmw', 'benz', 'land rover']\n",
    "print(cars)"
   ]
  },
  {
   "cell_type": "code",
   "execution_count": null,
   "metadata": {},
   "outputs": [
    {
     "name": "stdout",
     "output_type": "stream",
     "text": [
      "['bmw', 'benz', 'land rover']\n"
     ]
    }
   ],
   "source": [
    "cars = ['bmw', 'benz', 'land rover']\n",
    "print(cars)"
   ]
  },
  {
   "cell_type": "markdown",
   "metadata": {},
   "source": [
    "### 访问列表元素"
   ]
  },
  {
   "cell_type": "code",
   "execution_count": 4,
   "metadata": {
    "collapsed": true
   },
   "outputs": [
    {
     "name": "stdout",
     "output_type": "stream",
     "text": [
      "cat\n",
      "Dog\n",
      "frog\n"
     ]
    }
   ],
   "source": [
    "animals = ['cat', 'dog', 'frog']\n",
    "print(animals[0])\n",
    "print(animals[1].title())\n",
    "print(animals[-1])  # -1代表最后一个元素"
   ]
  },
  {
   "cell_type": "markdown",
   "metadata": {},
   "source": [
    "### 修改列表中的值"
   ]
  },
  {
   "cell_type": "code",
   "execution_count": 5,
   "metadata": {},
   "outputs": [
    {
     "name": "stdout",
     "output_type": "stream",
     "text": [
      "['土狗', '二哈', '泰迪']\n",
      "['柴犬', '二哈', '泰迪']\n"
     ]
    }
   ],
   "source": [
    "dog = ['土狗', '二哈', '泰迪']\n",
    "print(dog)\n",
    "dog[0] = '柴犬'\n",
    "print(dog)"
   ]
  },
  {
   "cell_type": "markdown",
   "metadata": {},
   "source": [
    "### 在列表中添加元素 "
   ]
  },
  {
   "cell_type": "code",
   "execution_count": 7,
   "metadata": {},
   "outputs": [
    {
     "name": "stdout",
     "output_type": "stream",
     "text": [
      "['hello', 'world', 'welcome']\n",
      "['hi', 'hello', 'world', 'welcome']\n"
     ]
    }
   ],
   "source": [
    "words = ['hello', 'world']\n",
    "words.append('welcome')\n",
    "print(words)\n",
    "\n",
    "words.insert(0, 'hi')\n",
    "print(words)"
   ]
  },
  {
   "cell_type": "markdown",
   "metadata": {},
   "source": [
    "### 在列表中删除元素"
   ]
  },
  {
   "cell_type": "code",
   "execution_count": 14,
   "metadata": {},
   "outputs": [
    {
     "name": "stdout",
     "output_type": "stream",
     "text": [
      "['honda', 'yamaha', 'suzuki']\n",
      "['yamaha', 'suzuki']\n",
      "suzuki\n",
      "['yamaha']\n",
      "The first motorcycle I owned was a Yamaha.\n",
      "['dog', 'cat', 'frog']\n",
      "['cat', 'frog']\n"
     ]
    }
   ],
   "source": [
    "motorcycles = ['honda', 'yamaha', 'suzuki']\n",
    "print(motorcycles)\n",
    "\n",
    "del motorcycles[0]\n",
    "print(motorcycles)\n",
    "\n",
    "top_moto = motorcycles.pop()\n",
    "print(top_moto)\n",
    "print(motorcycles)\n",
    "\n",
    "first_owned = motorcycles.pop(0)  # 弹出列表中任何位置处的元素\n",
    "print('The first motorcycle I owned was a ' + first_owned.title() + '.')\n",
    "\n",
    "animals = ['dog', 'cat', 'frog']\n",
    "print(animals)\n",
    "animals.remove('dog')  # 根据值删除元素\n",
    "print(animals)"
   ]
  },
  {
   "cell_type": "markdown",
   "metadata": {},
   "source": [
    "## 2.列表练习"
   ]
  },
  {
   "cell_type": "code",
   "execution_count": 33,
   "metadata": {},
   "outputs": [
    {
     "name": "stdout",
     "output_type": "stream",
     "text": [
      "I want to invite Jin, Ma ,Liu\n",
      "Liu can't be there!\n",
      "I want to invite Jin, Ma ,Li\n",
      "A big table was found\n",
      "I want to invite ['zhangsan', 'Jin', 'lisi', 'Ma', 'Li', 'wangwu']\n",
      "I can only invite two person\n",
      "Sorry wangwu, I can not invite you\n",
      "Sorry Li, I can not invite you\n",
      "Sorry Ma, I can not invite you\n",
      "Sorry lisi, I can not invite you\n",
      "zhangsan, I can still invite you\n",
      "Jin, I can still invite you\n",
      "[]\n"
     ]
    }
   ],
   "source": [
    "person = ['Jin', 'Ma', 'Liu']\n",
    "print(\"I want to invite \" + person[0] + \", \" + person[1] + \" ,\" + person[2])\n",
    "\n",
    "print(person[2] + \" can't be there!\")\n",
    "person[2] = 'Li'\n",
    "print(\"I want to invite \" + person[0] + \", \" + person[1] + \" ,\" + person[2])\n",
    "\n",
    "print(\"A big table was found\")\n",
    "person.insert(0, 'zhangsan')\n",
    "person.insert(2, 'lisi')\n",
    "person.append('wangwu')\n",
    "\n",
    "print(\"I want to invite \" + str(person))\n",
    "\n",
    "print('I can only invite two person')\n",
    "\n",
    "while(len(person) > 2):\n",
    "    name = person.pop()\n",
    "    print('Sorry ' + name + ', I can not invite you')\n",
    "    \n",
    "for i in range(len(person)):\n",
    "    print(person[i] + ', I can still invite you')\n",
    "    \n",
    "while(len(person) > 0):\n",
    "    del person[0]\n",
    "print(person)"
   ]
  },
  {
   "cell_type": "code",
   "execution_count": null,
   "metadata": {},
   "outputs": [],
   "source": []
  },
  {
   "cell_type": "code",
   "execution_count": null,
   "metadata": {},
   "outputs": [],
   "source": []
  },
  {
   "cell_type": "code",
   "execution_count": null,
   "metadata": {},
   "outputs": [],
   "source": []
  },
  {
   "cell_type": "code",
   "execution_count": null,
   "metadata": {},
   "outputs": [],
   "source": []
  },
  {
   "cell_type": "code",
   "execution_count": null,
   "metadata": {},
   "outputs": [],
   "source": []
  },
  {
   "cell_type": "code",
   "execution_count": null,
   "metadata": {},
   "outputs": [],
   "source": []
  },
  {
   "cell_type": "code",
   "execution_count": null,
   "metadata": {},
   "outputs": [],
   "source": []
  },
  {
   "cell_type": "code",
   "execution_count": null,
   "metadata": {},
   "outputs": [],
   "source": []
  },
  {
   "cell_type": "code",
   "execution_count": null,
   "metadata": {},
   "outputs": [],
   "source": []
  }
 ],
 "metadata": {
  "kernelspec": {
   "display_name": "Python 3",
   "language": "python",
   "name": "python3"
  },
  "language_info": {
   "codemirror_mode": {
    "name": "ipython",
    "version": 3
   },
   "file_extension": ".py",
   "mimetype": "text/x-python",
   "name": "python",
   "nbconvert_exporter": "python",
   "pygments_lexer": "ipython3",
   "version": "3.6.4"
  }
 },
 "nbformat": 4,
 "nbformat_minor": 2
}
